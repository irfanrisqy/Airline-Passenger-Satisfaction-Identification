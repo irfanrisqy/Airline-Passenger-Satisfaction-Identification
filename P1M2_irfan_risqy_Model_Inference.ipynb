{
 "cells": [
  {
   "cell_type": "markdown",
   "metadata": {},
   "source": [
    "---"
   ]
  },
  {
   "cell_type": "markdown",
   "metadata": {},
   "source": [
    "# PHASE 1 MILESTONE 2 MODEL INFERENCE"
   ]
  },
  {
   "cell_type": "markdown",
   "metadata": {},
   "source": [
    "---"
   ]
  },
  {
   "cell_type": "markdown",
   "metadata": {},
   "source": [
    "Nama : Irfan Risqy Trianto\n",
    "\n",
    "Batch : BSD - 001"
   ]
  },
  {
   "cell_type": "markdown",
   "metadata": {},
   "source": [
    "Pada notebook ini akan dilakukan prediksi tingkat satisfaction passanger maskapai H8 Airways menggunakan model klasifikasi yang sudah dibuat."
   ]
  },
  {
   "cell_type": "code",
   "execution_count": 1,
   "metadata": {},
   "outputs": [],
   "source": [
    "# Import Libraries\n",
    "import pickle\n",
    "import json\n",
    "import pandas as pd \n",
    "import numpy as np "
   ]
  },
  {
   "cell_type": "code",
   "execution_count": 2,
   "metadata": {},
   "outputs": [],
   "source": [
    "# Load data yang sudah dibuat di model\n",
    "with open('best_model.pkl', 'rb') as file:\n",
    "    best_model = pickle.load(file)"
   ]
  },
  {
   "cell_type": "code",
   "execution_count": 3,
   "metadata": {},
   "outputs": [],
   "source": [
    "# Membuat data inference\n",
    "data_inf = {\n",
    "    'id': 1708, \n",
    "    'Gender': 'Male', \n",
    "    'Customer Type': 'Loyal Customer', \n",
    "    'Age': 22, \n",
    "    'Type of Travel': 'Business Travel', \n",
    "    'Class': 'Business',\n",
    "    'Flight Distance': 2222, \n",
    "    'Inflight wifi service': 4,\n",
    "    'Departure/Arrival time convenient': 3, \n",
    "    'Ease of Online booking': 4,\n",
    "    'Gate location': 2, \n",
    "    'Food and drink': 5, \n",
    "    'Online boarding': 4, \n",
    "    'Seat comfort': 5,\n",
    "    'Inflight entertainment': 5, \n",
    "    'On-board service': 4, \n",
    "    'Leg room service': 4,\n",
    "    'Baggage handling': 3, \n",
    "    'Checkin service': 3, \n",
    "    'Inflight service': 3,\n",
    "    'Cleanliness': 4, \n",
    "    'Departure Delay in Minutes': 10,\n",
    "    'Arrival Delay in Minutes': 20\n",
    "}"
   ]
  },
  {
   "cell_type": "code",
   "execution_count": 4,
   "metadata": {},
   "outputs": [
    {
     "data": {
      "text/html": [
       "<div>\n",
       "<style scoped>\n",
       "    .dataframe tbody tr th:only-of-type {\n",
       "        vertical-align: middle;\n",
       "    }\n",
       "\n",
       "    .dataframe tbody tr th {\n",
       "        vertical-align: top;\n",
       "    }\n",
       "\n",
       "    .dataframe thead th {\n",
       "        text-align: right;\n",
       "    }\n",
       "</style>\n",
       "<table border=\"1\" class=\"dataframe\">\n",
       "  <thead>\n",
       "    <tr style=\"text-align: right;\">\n",
       "      <th></th>\n",
       "      <th>id</th>\n",
       "      <th>Gender</th>\n",
       "      <th>Customer Type</th>\n",
       "      <th>Age</th>\n",
       "      <th>Type of Travel</th>\n",
       "      <th>Class</th>\n",
       "      <th>Flight Distance</th>\n",
       "      <th>Inflight wifi service</th>\n",
       "      <th>Departure/Arrival time convenient</th>\n",
       "      <th>Ease of Online booking</th>\n",
       "      <th>...</th>\n",
       "      <th>Seat comfort</th>\n",
       "      <th>Inflight entertainment</th>\n",
       "      <th>On-board service</th>\n",
       "      <th>Leg room service</th>\n",
       "      <th>Baggage handling</th>\n",
       "      <th>Checkin service</th>\n",
       "      <th>Inflight service</th>\n",
       "      <th>Cleanliness</th>\n",
       "      <th>Departure Delay in Minutes</th>\n",
       "      <th>Arrival Delay in Minutes</th>\n",
       "    </tr>\n",
       "  </thead>\n",
       "  <tbody>\n",
       "    <tr>\n",
       "      <th>0</th>\n",
       "      <td>1708</td>\n",
       "      <td>Male</td>\n",
       "      <td>Loyal Customer</td>\n",
       "      <td>22</td>\n",
       "      <td>Business Travel</td>\n",
       "      <td>Business</td>\n",
       "      <td>2222</td>\n",
       "      <td>4</td>\n",
       "      <td>3</td>\n",
       "      <td>4</td>\n",
       "      <td>...</td>\n",
       "      <td>5</td>\n",
       "      <td>5</td>\n",
       "      <td>4</td>\n",
       "      <td>4</td>\n",
       "      <td>3</td>\n",
       "      <td>3</td>\n",
       "      <td>3</td>\n",
       "      <td>4</td>\n",
       "      <td>10</td>\n",
       "      <td>20</td>\n",
       "    </tr>\n",
       "  </tbody>\n",
       "</table>\n",
       "<p>1 rows × 23 columns</p>\n",
       "</div>"
      ],
      "text/plain": [
       "     id Gender   Customer Type  Age   Type of Travel     Class  \\\n",
       "0  1708   Male  Loyal Customer   22  Business Travel  Business   \n",
       "\n",
       "   Flight Distance  Inflight wifi service  Departure/Arrival time convenient  \\\n",
       "0             2222                      4                                  3   \n",
       "\n",
       "   Ease of Online booking  ...  Seat comfort  Inflight entertainment  \\\n",
       "0                       4  ...             5                       5   \n",
       "\n",
       "   On-board service  Leg room service  Baggage handling  Checkin service  \\\n",
       "0                 4                 4                 3                3   \n",
       "\n",
       "   Inflight service  Cleanliness  Departure Delay in Minutes  \\\n",
       "0                 3            4                          10   \n",
       "\n",
       "   Arrival Delay in Minutes  \n",
       "0                        20  \n",
       "\n",
       "[1 rows x 23 columns]"
      ]
     },
     "execution_count": 4,
     "metadata": {},
     "output_type": "execute_result"
    }
   ],
   "source": [
    "# Convert menjadi dataframe\n",
    "data_inf = pd.DataFrame([data_inf])\n",
    "data_inf"
   ]
  },
  {
   "cell_type": "code",
   "execution_count": 5,
   "metadata": {},
   "outputs": [
    {
     "name": "stdout",
     "output_type": "stream",
     "text": [
      "Passanger Satisfaction : Satisfied\n"
     ]
    }
   ],
   "source": [
    "# Predict menggunakan best model\n",
    "y_pred_inf = best_model.predict(data_inf)\n",
    "\n",
    "# Menampilkan hasil\n",
    "if y_pred_inf[0] == 1:\n",
    "    print('Passanger Satisfaction : Satisfied')\n",
    "else:\n",
    "    print('Passanger Satisfaction : Dissatisfied')"
   ]
  },
  {
   "cell_type": "markdown",
   "metadata": {},
   "source": [
    "Bisa dilihat hasil diatas telah dilakukan prediksi dengan menggunakan data baru yang dimana model memprediksi data baru tersebut sebagai '1' yang berarti pelanggan tersebut bisa terbilang satisfied."
   ]
  }
 ],
 "metadata": {
  "kernelspec": {
   "display_name": "base",
   "language": "python",
   "name": "python3"
  },
  "language_info": {
   "codemirror_mode": {
    "name": "ipython",
    "version": 3
   },
   "file_extension": ".py",
   "mimetype": "text/x-python",
   "name": "python",
   "nbconvert_exporter": "python",
   "pygments_lexer": "ipython3",
   "version": "3.9.17"
  },
  "orig_nbformat": 4
 },
 "nbformat": 4,
 "nbformat_minor": 2
}
